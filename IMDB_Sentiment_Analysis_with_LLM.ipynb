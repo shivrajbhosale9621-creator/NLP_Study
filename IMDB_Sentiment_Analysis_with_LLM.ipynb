{
  "nbformat": 4,
  "nbformat_minor": 0,
  "metadata": {
    "colab": {
      "provenance": []
    },
    "kernelspec": {
      "name": "python3",
      "display_name": "Python 3"
    },
    "language_info": {
      "name": "python"
    }
  },
  "cells": [
    {
      "cell_type": "code",
      "execution_count": null,
      "metadata": {
        "colab": {
          "base_uri": "https://localhost:8080/",
          "height": 668
        },
        "id": "rOq7YRX74dGu",
        "outputId": "fa501970-bb1d-4e68-95a7-e07706e63e67"
      },
      "outputs": [
        {
          "output_type": "stream",
          "name": "stdout",
          "text": [
            "Collecting gensim\n",
            "  Downloading gensim-4.3.3-cp312-cp312-manylinux_2_17_x86_64.manylinux2014_x86_64.whl.metadata (8.1 kB)\n",
            "Collecting numpy<2.0,>=1.18.5 (from gensim)\n",
            "  Downloading numpy-1.26.4-cp312-cp312-manylinux_2_17_x86_64.manylinux2014_x86_64.whl.metadata (61 kB)\n",
            "\u001b[2K     \u001b[90m━━━━━━━━━━━━━━━━━━━━━━━━━━━━━━━━━━━━━━━━\u001b[0m \u001b[32m61.0/61.0 kB\u001b[0m \u001b[31m4.5 MB/s\u001b[0m eta \u001b[36m0:00:00\u001b[0m\n",
            "\u001b[?25hCollecting scipy<1.14.0,>=1.7.0 (from gensim)\n",
            "  Downloading scipy-1.13.1-cp312-cp312-manylinux_2_17_x86_64.manylinux2014_x86_64.whl.metadata (60 kB)\n",
            "\u001b[2K     \u001b[90m━━━━━━━━━━━━━━━━━━━━━━━━━━━━━━━━━━━━━━━━\u001b[0m \u001b[32m60.6/60.6 kB\u001b[0m \u001b[31m3.9 MB/s\u001b[0m eta \u001b[36m0:00:00\u001b[0m\n",
            "\u001b[?25hRequirement already satisfied: smart-open>=1.8.1 in /usr/local/lib/python3.12/dist-packages (from gensim) (7.3.1)\n",
            "Requirement already satisfied: wrapt in /usr/local/lib/python3.12/dist-packages (from smart-open>=1.8.1->gensim) (1.17.3)\n",
            "Downloading gensim-4.3.3-cp312-cp312-manylinux_2_17_x86_64.manylinux2014_x86_64.whl (26.6 MB)\n",
            "\u001b[2K   \u001b[90m━━━━━━━━━━━━━━━━━━━━━━━━━━━━━━━━━━━━━━━━\u001b[0m \u001b[32m26.6/26.6 MB\u001b[0m \u001b[31m62.3 MB/s\u001b[0m eta \u001b[36m0:00:00\u001b[0m\n",
            "\u001b[?25hDownloading numpy-1.26.4-cp312-cp312-manylinux_2_17_x86_64.manylinux2014_x86_64.whl (18.0 MB)\n",
            "\u001b[2K   \u001b[90m━━━━━━━━━━━━━━━━━━━━━━━━━━━━━━━━━━━━━━━━\u001b[0m \u001b[32m18.0/18.0 MB\u001b[0m \u001b[31m81.8 MB/s\u001b[0m eta \u001b[36m0:00:00\u001b[0m\n",
            "\u001b[?25hDownloading scipy-1.13.1-cp312-cp312-manylinux_2_17_x86_64.manylinux2014_x86_64.whl (38.2 MB)\n",
            "\u001b[2K   \u001b[90m━━━━━━━━━━━━━━━━━━━━━━━━━━━━━━━━━━━━━━━━\u001b[0m \u001b[32m38.2/38.2 MB\u001b[0m \u001b[31m14.2 MB/s\u001b[0m eta \u001b[36m0:00:00\u001b[0m\n",
            "\u001b[?25hInstalling collected packages: numpy, scipy, gensim\n",
            "  Attempting uninstall: numpy\n",
            "    Found existing installation: numpy 2.0.2\n",
            "    Uninstalling numpy-2.0.2:\n",
            "      Successfully uninstalled numpy-2.0.2\n",
            "  Attempting uninstall: scipy\n",
            "    Found existing installation: scipy 1.16.1\n",
            "    Uninstalling scipy-1.16.1:\n",
            "      Successfully uninstalled scipy-1.16.1\n",
            "\u001b[31mERROR: pip's dependency resolver does not currently take into account all the packages that are installed. This behaviour is the source of the following dependency conflicts.\n",
            "thinc 8.3.6 requires numpy<3.0.0,>=2.0.0, but you have numpy 1.26.4 which is incompatible.\n",
            "opencv-python-headless 4.12.0.88 requires numpy<2.3.0,>=2; python_version >= \"3.9\", but you have numpy 1.26.4 which is incompatible.\n",
            "opencv-python 4.12.0.88 requires numpy<2.3.0,>=2; python_version >= \"3.9\", but you have numpy 1.26.4 which is incompatible.\n",
            "tsfresh 0.21.1 requires scipy>=1.14.0; python_version >= \"3.10\", but you have scipy 1.13.1 which is incompatible.\n",
            "opencv-contrib-python 4.12.0.88 requires numpy<2.3.0,>=2; python_version >= \"3.9\", but you have numpy 1.26.4 which is incompatible.\u001b[0m\u001b[31m\n",
            "\u001b[0mSuccessfully installed gensim-4.3.3 numpy-1.26.4 scipy-1.13.1\n"
          ]
        },
        {
          "output_type": "display_data",
          "data": {
            "application/vnd.colab-display-data+json": {
              "pip_warning": {
                "packages": [
                  "numpy"
                ]
              },
              "id": "431e462af329465c9e4e6a9fdc4a79e3"
            }
          },
          "metadata": {}
        }
      ],
      "source": [
        "!pip install gensim"
      ]
    },
    {
      "cell_type": "code",
      "source": [
        "import pandas as pd\n",
        "from sklearn.model_selection import train_test_split\n",
        "from nltk.corpus import stopwords\n",
        "from nltk.tokenize import word_tokenize\n",
        "import string\n",
        "from gensim.models import Word2Vec\n",
        "import numpy as np\n",
        "from sklearn.linear_model import LogisticRegression\n",
        "from sklearn.metrics import accuracy_score,precision_score,recall_score,f1_score"
      ],
      "metadata": {
        "id": "xg3VJ5_v-Cle"
      },
      "execution_count": null,
      "outputs": []
    },
    {
      "cell_type": "markdown",
      "source": [
        "## Read the data"
      ],
      "metadata": {
        "id": "ObIgivv1_Cl7"
      }
    },
    {
      "cell_type": "code",
      "source": [
        "data=pd.read_excel('/content/IMDB Dataset_sample.xlsx')"
      ],
      "metadata": {
        "id": "UvhDiY7s_Bx7"
      },
      "execution_count": null,
      "outputs": []
    },
    {
      "cell_type": "code",
      "source": [
        "data.head()"
      ],
      "metadata": {
        "colab": {
          "base_uri": "https://localhost:8080/",
          "height": 206
        },
        "id": "aXsSwVVXAD43",
        "outputId": "3acc4e2b-9bfb-4dcb-b643-48f26664f4d8"
      },
      "execution_count": null,
      "outputs": [
        {
          "output_type": "execute_result",
          "data": {
            "text/plain": [
              "                                              review sentiment\n",
              "0  One of the other reviewers has mentioned that ...  positive\n",
              "1  A wonderful little production. <br /><br />The...  positive\n",
              "2  I thought this was a wonderful way to spend ti...  positive\n",
              "3  Basically there's a family where a little boy ...  negative\n",
              "4  Petter Mattei's \"Love in the Time of Money\" is...  positive"
            ],
            "text/html": [
              "\n",
              "  <div id=\"df-044b2e3e-dc1f-4378-8360-2b997981a8a0\" class=\"colab-df-container\">\n",
              "    <div>\n",
              "<style scoped>\n",
              "    .dataframe tbody tr th:only-of-type {\n",
              "        vertical-align: middle;\n",
              "    }\n",
              "\n",
              "    .dataframe tbody tr th {\n",
              "        vertical-align: top;\n",
              "    }\n",
              "\n",
              "    .dataframe thead th {\n",
              "        text-align: right;\n",
              "    }\n",
              "</style>\n",
              "<table border=\"1\" class=\"dataframe\">\n",
              "  <thead>\n",
              "    <tr style=\"text-align: right;\">\n",
              "      <th></th>\n",
              "      <th>review</th>\n",
              "      <th>sentiment</th>\n",
              "    </tr>\n",
              "  </thead>\n",
              "  <tbody>\n",
              "    <tr>\n",
              "      <th>0</th>\n",
              "      <td>One of the other reviewers has mentioned that ...</td>\n",
              "      <td>positive</td>\n",
              "    </tr>\n",
              "    <tr>\n",
              "      <th>1</th>\n",
              "      <td>A wonderful little production. &lt;br /&gt;&lt;br /&gt;The...</td>\n",
              "      <td>positive</td>\n",
              "    </tr>\n",
              "    <tr>\n",
              "      <th>2</th>\n",
              "      <td>I thought this was a wonderful way to spend ti...</td>\n",
              "      <td>positive</td>\n",
              "    </tr>\n",
              "    <tr>\n",
              "      <th>3</th>\n",
              "      <td>Basically there's a family where a little boy ...</td>\n",
              "      <td>negative</td>\n",
              "    </tr>\n",
              "    <tr>\n",
              "      <th>4</th>\n",
              "      <td>Petter Mattei's \"Love in the Time of Money\" is...</td>\n",
              "      <td>positive</td>\n",
              "    </tr>\n",
              "  </tbody>\n",
              "</table>\n",
              "</div>\n",
              "    <div class=\"colab-df-buttons\">\n",
              "\n",
              "  <div class=\"colab-df-container\">\n",
              "    <button class=\"colab-df-convert\" onclick=\"convertToInteractive('df-044b2e3e-dc1f-4378-8360-2b997981a8a0')\"\n",
              "            title=\"Convert this dataframe to an interactive table.\"\n",
              "            style=\"display:none;\">\n",
              "\n",
              "  <svg xmlns=\"http://www.w3.org/2000/svg\" height=\"24px\" viewBox=\"0 -960 960 960\">\n",
              "    <path d=\"M120-120v-720h720v720H120Zm60-500h600v-160H180v160Zm220 220h160v-160H400v160Zm0 220h160v-160H400v160ZM180-400h160v-160H180v160Zm440 0h160v-160H620v160ZM180-180h160v-160H180v160Zm440 0h160v-160H620v160Z\"/>\n",
              "  </svg>\n",
              "    </button>\n",
              "\n",
              "  <style>\n",
              "    .colab-df-container {\n",
              "      display:flex;\n",
              "      gap: 12px;\n",
              "    }\n",
              "\n",
              "    .colab-df-convert {\n",
              "      background-color: #E8F0FE;\n",
              "      border: none;\n",
              "      border-radius: 50%;\n",
              "      cursor: pointer;\n",
              "      display: none;\n",
              "      fill: #1967D2;\n",
              "      height: 32px;\n",
              "      padding: 0 0 0 0;\n",
              "      width: 32px;\n",
              "    }\n",
              "\n",
              "    .colab-df-convert:hover {\n",
              "      background-color: #E2EBFA;\n",
              "      box-shadow: 0px 1px 2px rgba(60, 64, 67, 0.3), 0px 1px 3px 1px rgba(60, 64, 67, 0.15);\n",
              "      fill: #174EA6;\n",
              "    }\n",
              "\n",
              "    .colab-df-buttons div {\n",
              "      margin-bottom: 4px;\n",
              "    }\n",
              "\n",
              "    [theme=dark] .colab-df-convert {\n",
              "      background-color: #3B4455;\n",
              "      fill: #D2E3FC;\n",
              "    }\n",
              "\n",
              "    [theme=dark] .colab-df-convert:hover {\n",
              "      background-color: #434B5C;\n",
              "      box-shadow: 0px 1px 3px 1px rgba(0, 0, 0, 0.15);\n",
              "      filter: drop-shadow(0px 1px 2px rgba(0, 0, 0, 0.3));\n",
              "      fill: #FFFFFF;\n",
              "    }\n",
              "  </style>\n",
              "\n",
              "    <script>\n",
              "      const buttonEl =\n",
              "        document.querySelector('#df-044b2e3e-dc1f-4378-8360-2b997981a8a0 button.colab-df-convert');\n",
              "      buttonEl.style.display =\n",
              "        google.colab.kernel.accessAllowed ? 'block' : 'none';\n",
              "\n",
              "      async function convertToInteractive(key) {\n",
              "        const element = document.querySelector('#df-044b2e3e-dc1f-4378-8360-2b997981a8a0');\n",
              "        const dataTable =\n",
              "          await google.colab.kernel.invokeFunction('convertToInteractive',\n",
              "                                                    [key], {});\n",
              "        if (!dataTable) return;\n",
              "\n",
              "        const docLinkHtml = 'Like what you see? Visit the ' +\n",
              "          '<a target=\"_blank\" href=https://colab.research.google.com/notebooks/data_table.ipynb>data table notebook</a>'\n",
              "          + ' to learn more about interactive tables.';\n",
              "        element.innerHTML = '';\n",
              "        dataTable['output_type'] = 'display_data';\n",
              "        await google.colab.output.renderOutput(dataTable, element);\n",
              "        const docLink = document.createElement('div');\n",
              "        docLink.innerHTML = docLinkHtml;\n",
              "        element.appendChild(docLink);\n",
              "      }\n",
              "    </script>\n",
              "  </div>\n",
              "\n",
              "\n",
              "    <div id=\"df-69b9da6b-f78a-4fad-9676-01588a609d7f\">\n",
              "      <button class=\"colab-df-quickchart\" onclick=\"quickchart('df-69b9da6b-f78a-4fad-9676-01588a609d7f')\"\n",
              "                title=\"Suggest charts\"\n",
              "                style=\"display:none;\">\n",
              "\n",
              "<svg xmlns=\"http://www.w3.org/2000/svg\" height=\"24px\"viewBox=\"0 0 24 24\"\n",
              "     width=\"24px\">\n",
              "    <g>\n",
              "        <path d=\"M19 3H5c-1.1 0-2 .9-2 2v14c0 1.1.9 2 2 2h14c1.1 0 2-.9 2-2V5c0-1.1-.9-2-2-2zM9 17H7v-7h2v7zm4 0h-2V7h2v10zm4 0h-2v-4h2v4z\"/>\n",
              "    </g>\n",
              "</svg>\n",
              "      </button>\n",
              "\n",
              "<style>\n",
              "  .colab-df-quickchart {\n",
              "      --bg-color: #E8F0FE;\n",
              "      --fill-color: #1967D2;\n",
              "      --hover-bg-color: #E2EBFA;\n",
              "      --hover-fill-color: #174EA6;\n",
              "      --disabled-fill-color: #AAA;\n",
              "      --disabled-bg-color: #DDD;\n",
              "  }\n",
              "\n",
              "  [theme=dark] .colab-df-quickchart {\n",
              "      --bg-color: #3B4455;\n",
              "      --fill-color: #D2E3FC;\n",
              "      --hover-bg-color: #434B5C;\n",
              "      --hover-fill-color: #FFFFFF;\n",
              "      --disabled-bg-color: #3B4455;\n",
              "      --disabled-fill-color: #666;\n",
              "  }\n",
              "\n",
              "  .colab-df-quickchart {\n",
              "    background-color: var(--bg-color);\n",
              "    border: none;\n",
              "    border-radius: 50%;\n",
              "    cursor: pointer;\n",
              "    display: none;\n",
              "    fill: var(--fill-color);\n",
              "    height: 32px;\n",
              "    padding: 0;\n",
              "    width: 32px;\n",
              "  }\n",
              "\n",
              "  .colab-df-quickchart:hover {\n",
              "    background-color: var(--hover-bg-color);\n",
              "    box-shadow: 0 1px 2px rgba(60, 64, 67, 0.3), 0 1px 3px 1px rgba(60, 64, 67, 0.15);\n",
              "    fill: var(--button-hover-fill-color);\n",
              "  }\n",
              "\n",
              "  .colab-df-quickchart-complete:disabled,\n",
              "  .colab-df-quickchart-complete:disabled:hover {\n",
              "    background-color: var(--disabled-bg-color);\n",
              "    fill: var(--disabled-fill-color);\n",
              "    box-shadow: none;\n",
              "  }\n",
              "\n",
              "  .colab-df-spinner {\n",
              "    border: 2px solid var(--fill-color);\n",
              "    border-color: transparent;\n",
              "    border-bottom-color: var(--fill-color);\n",
              "    animation:\n",
              "      spin 1s steps(1) infinite;\n",
              "  }\n",
              "\n",
              "  @keyframes spin {\n",
              "    0% {\n",
              "      border-color: transparent;\n",
              "      border-bottom-color: var(--fill-color);\n",
              "      border-left-color: var(--fill-color);\n",
              "    }\n",
              "    20% {\n",
              "      border-color: transparent;\n",
              "      border-left-color: var(--fill-color);\n",
              "      border-top-color: var(--fill-color);\n",
              "    }\n",
              "    30% {\n",
              "      border-color: transparent;\n",
              "      border-left-color: var(--fill-color);\n",
              "      border-top-color: var(--fill-color);\n",
              "      border-right-color: var(--fill-color);\n",
              "    }\n",
              "    40% {\n",
              "      border-color: transparent;\n",
              "      border-right-color: var(--fill-color);\n",
              "      border-top-color: var(--fill-color);\n",
              "    }\n",
              "    60% {\n",
              "      border-color: transparent;\n",
              "      border-right-color: var(--fill-color);\n",
              "    }\n",
              "    80% {\n",
              "      border-color: transparent;\n",
              "      border-right-color: var(--fill-color);\n",
              "      border-bottom-color: var(--fill-color);\n",
              "    }\n",
              "    90% {\n",
              "      border-color: transparent;\n",
              "      border-bottom-color: var(--fill-color);\n",
              "    }\n",
              "  }\n",
              "</style>\n",
              "\n",
              "      <script>\n",
              "        async function quickchart(key) {\n",
              "          const quickchartButtonEl =\n",
              "            document.querySelector('#' + key + ' button');\n",
              "          quickchartButtonEl.disabled = true;  // To prevent multiple clicks.\n",
              "          quickchartButtonEl.classList.add('colab-df-spinner');\n",
              "          try {\n",
              "            const charts = await google.colab.kernel.invokeFunction(\n",
              "                'suggestCharts', [key], {});\n",
              "          } catch (error) {\n",
              "            console.error('Error during call to suggestCharts:', error);\n",
              "          }\n",
              "          quickchartButtonEl.classList.remove('colab-df-spinner');\n",
              "          quickchartButtonEl.classList.add('colab-df-quickchart-complete');\n",
              "        }\n",
              "        (() => {\n",
              "          let quickchartButtonEl =\n",
              "            document.querySelector('#df-69b9da6b-f78a-4fad-9676-01588a609d7f button');\n",
              "          quickchartButtonEl.style.display =\n",
              "            google.colab.kernel.accessAllowed ? 'block' : 'none';\n",
              "        })();\n",
              "      </script>\n",
              "    </div>\n",
              "\n",
              "    </div>\n",
              "  </div>\n"
            ],
            "application/vnd.google.colaboratory.intrinsic+json": {
              "type": "dataframe",
              "variable_name": "data",
              "summary": "{\n  \"name\": \"data\",\n  \"rows\": 1114,\n  \"fields\": [\n    {\n      \"column\": \"review\",\n      \"properties\": {\n        \"dtype\": \"string\",\n        \"num_unique_values\": 1114,\n        \"samples\": [\n          \"Largely forgettable tale in which mercenary Kerman & employer Agren travel into the jungle in search of Agren's missing sister.<br /><br />Despite its connection to the cannibal movie family, this film is more of an extreme version of Rene Cardona's \\\"Guyana - Crime of the Century\\\". Lenzi clearly aims to exploit the (at that time) topical Jonestown massacre, by depicting a rogue, self righteous zealot with a penchant for bigamy and just a hint of megalomania (played with ruthless intensity by Ivan Rassimov) leading his motley crew flock into self inflicted oblivion. With sister in toe, Kerman & Agren attempt to stop the rot, but after several failed coups, they end up fleeing into the \\\"Green Inferno\\\", only to run afoul the locals and their notorious appetites.<br /><br />One in a string of excessive gore fests that emerged in the late seventies/early eighties, where every new addition seemed to engage in a one-upmanship contest with its predecessor, by attempting to contrive the most gory and graphic display ever brought to motion pictures. This inferior instalment employs all the motifs and gimmicks of the others, but with much less success.<br /><br />Was it the so called \\\"Amazonian natives\\\" who looked like they were Bollywood rejects (this film was made on location in Sri Lanka), or the inept \\\"decapitation\\\" and \\\"castration\\\" scenes that seriously diminished the authenticity that was apparent in \\\"Cannibal Holocaust\\\"? You can decide. Without spoiling the conclusion, it appeared as though Lenzi put more emphasis in his shock and awe climax than in the basic requirement for a cohesive ending, where all loose ends are resolved. Most unsatisfying.<br /><br />As with the others, where the extent of the graphic depictions of violence toward humans is limited (thankfully), the filmmakers have spared no extreme in inflicting the worst possible cruelty on hapless animals in their pursuit of the most sadistic shocks. Unfortunately, the only thing shocking about this film is that it rates a mention among others of the ilk, that deal with the subject matter more convincingly.<br /><br />If there are any redeemable features at all, Kerman is an affable if somewhat one-dimensional leading man, and his bevy of scantily clad co-stars (Agren, Lai and Senatore) provide some visual respite from the relentless slayings.\",\n          \"Okay, last night, August 18th, 2004, I had the distinct displeasure of meeting Mr. Van Bebble at a showing of the film The Manson Family at the Three Penny in Chicago as part of the Chicago Underground Film Festival. Here's what I have to say about it. First of all, the film is an obvious rip off of every Kenneth Anger, Roman Polanski, Oliver Stone and Terry Gilliam movie I've ever seen. Second of all, in a short Q & A session after the show Mr. Van Bebble immediately stated that he never made any contact with the actual Manson Family members or Charlie himself, calling them liars and saying he wanted nothing to do with them, that the film was based on his (Van Bebble's) take on the trial having seen it all from his living room on TV and in the news (and I'm assuming from the Autobiography and the book Helter Skelter which were directly mimicked through the narrative). So I had second dibs on questions, I asked if he was trying to present the outsider, Mtv, sex drugs and rock 'n roll version and not necessarily the true story. This question obviously pissed off the by now sloshed director who started shouting \\\"f*** you, shut the f*** up, this is the truth! All those other movies are bullsh**!\\\"<br /><br />Well anyway, I didn't even think about how ridiculous this was until the next day when I read the tagline for the film, \\\"You've heard the laws side of the story...now hear the story as it is told by the Manson Family.\\\" Excuse me, if this guy has never even spoken to the family and considers them to be liars that he doesn't want to have anything to do with, how in God's name can he tell the story for them!? This is the most ridiculous statement I have ever heard! The film was obviously catered to the sex drugs and rock 'n roll audience that it had no trouble in attracting to the small, dimly lit theatre, and was even more obviously spawned by the sex drugs and rock 'n roll mind of a man who couldn't even watch his own film without getting up every ten minutes to go get more beer or to shout some sort of Rocky Horroresque call line to the actors on screen. This film accomplishes little more than warping the public's image of actual events (which helped shape the state of America and much of the world today) into some sort of Slasher/Comic Book/Porno/Rape fantasy dreamed up by an obviously shallow individual.<br /><br />The film was definitely very impressive to look at. The soundtrack was refreshing as it contained actual samples of Charlie's work with the Family off of his Lie album. The editing was nice and choppy to simulate the nauseating uncertainty of most modern music videos. All in all this film would have made a much better addition to the catalogues at Mtv than to the Underground Film Festival or for that matter the minds of any intellectual observers. I felt like I was at a midnight Rocky Horror viewing the way the audience was dressed and behaving (probably the best part of the experience). The cast was very good with the exception of Charlie who resembled some sort of stoned Dungeons and Dragons enthusiast more than the actual role he was portraying. The descriptions the film gave of him as full of energy, throwing ten things at you and being very physical about it all the while did not match at all the slow, lethargic, and chubby representation that was actually presented.<br /><br />All in all the film basically explains itself as Sadie (or maybe it was Linda) declares at the end, \\\"You can write a bunch of bullsh** books or make a bunch of bullsh** movies...etc. etc.\\\" Case in point. Even the disclaimer \\\"Based on a True Story\\\" is a dead giveaway, signalling that somewhere beneath this psychedelic garbage heap lay the foundation of an actual story with content that will make and has made a difference in the world. All you have to do is a little bit of alchemy to separate the truth from the the crap, or actually, maybe you could just avoid it all together and go read a book instead.<br /><br />All I can say is this, when the film ended I got a free beer so I'm glad I went, but not so glad I spent fifteen dollars on my ticket to be told to shut the f*** up for asking the director a question. Peace.\",\n          \"I saw this movie a fews years ago and was literally swept away by it. So charming and so very romantic. David Duchovny and Ms. Driver have chemistry that is so hot, you will need to take off a layer of clothing. The supporting cast is 100% top notch. Just watching Caroll O'Connor and Robert Loggia play off one another is pure poetry. Bonnie Hunt and Jim Bellushi and a wonderful team and some of the films most charming moments are when they are on the screen. Like Jim Belushi screaming at his children to go to sleep \\\"FOREVER!\\\" or him dancing in the kitchen. This film made we wish I knew people like that in my own life. Not to mention, what woman does not want David Duchovny for a boyfriend?\"\n        ],\n        \"semantic_type\": \"\",\n        \"description\": \"\"\n      }\n    },\n    {\n      \"column\": \"sentiment\",\n      \"properties\": {\n        \"dtype\": \"category\",\n        \"num_unique_values\": 2,\n        \"samples\": [\n          \"negative\",\n          \"positive\"\n        ],\n        \"semantic_type\": \"\",\n        \"description\": \"\"\n      }\n    }\n  ]\n}"
            }
          },
          "metadata": {},
          "execution_count": 3
        }
      ]
    },
    {
      "cell_type": "markdown",
      "source": [
        "## Split the data"
      ],
      "metadata": {
        "id": "dCobK3CCABW4"
      }
    },
    {
      "cell_type": "code",
      "source": [
        "X_train,X_test,y_train,y_test=train_test_split(data['review'],\n",
        "                                               data['sentiment'],\n",
        "                                               test_size=0.2,\n",
        "                                               random_state=42)"
      ],
      "metadata": {
        "id": "pCEBK3hJ_LnJ"
      },
      "execution_count": null,
      "outputs": []
    },
    {
      "cell_type": "markdown",
      "source": [
        "## We are individually importing the NLP packages"
      ],
      "metadata": {
        "id": "s39lNXzuAbeJ"
      }
    },
    {
      "cell_type": "code",
      "source": [
        "data.shape,X_train.shape,y_train.shape"
      ],
      "metadata": {
        "colab": {
          "base_uri": "https://localhost:8080/"
        },
        "id": "FTAYZg78Alfc",
        "outputId": "ff0481aa-1b3e-41d8-d559-749101a3a2a3"
      },
      "execution_count": null,
      "outputs": [
        {
          "output_type": "execute_result",
          "data": {
            "text/plain": [
              "((1114, 2), (891,), (891,))"
            ]
          },
          "metadata": {},
          "execution_count": 8
        }
      ]
    },
    {
      "cell_type": "code",
      "source": [
        "X_train.shape,y_train.shape"
      ],
      "metadata": {
        "colab": {
          "base_uri": "https://localhost:8080/"
        },
        "id": "IS9LKH2wAv1W",
        "outputId": "a59fb815-8dfd-4c80-df35-4535c89e3ef5"
      },
      "execution_count": null,
      "outputs": [
        {
          "output_type": "execute_result",
          "data": {
            "text/plain": [
              "((891,), (891,))"
            ]
          },
          "metadata": {},
          "execution_count": 9
        }
      ]
    },
    {
      "cell_type": "code",
      "source": [
        "import nltk\n",
        "nltk.download('stopwords')\n",
        "nltk.download('punkt_tab')"
      ],
      "metadata": {
        "colab": {
          "base_uri": "https://localhost:8080/"
        },
        "id": "kRlv9D4hAZzP",
        "outputId": "d82b80a4-ac82-4859-fb88-a540ba3ecba1"
      },
      "execution_count": null,
      "outputs": [
        {
          "output_type": "stream",
          "name": "stderr",
          "text": [
            "[nltk_data] Downloading package stopwords to /root/nltk_data...\n",
            "[nltk_data]   Unzipping corpora/stopwords.zip.\n",
            "[nltk_data] Downloading package punkt_tab to /root/nltk_data...\n",
            "[nltk_data]   Unzipping tokenizers/punkt_tab.zip.\n"
          ]
        },
        {
          "output_type": "execute_result",
          "data": {
            "text/plain": [
              "True"
            ]
          },
          "metadata": {},
          "execution_count": 10
        }
      ]
    },
    {
      "cell_type": "markdown",
      "source": [
        "## Creating a preprocess function\n",
        "\n",
        "- lower the text\n",
        "\n",
        "- remove the punctuations\n",
        "\n",
        "- tokenize the text\n",
        "\n",
        "- apply the stop words"
      ],
      "metadata": {
        "id": "vt7craL9A3RZ"
      }
    },
    {
      "cell_type": "code",
      "source": [
        "stop_words=set(stopwords.words('english'))\n",
        "def preprocess(text):\n",
        "  text=text.lower()\n",
        "  text=\"\".join([word for word in text if word not in string.punctuation])\n",
        "  tokens=word_tokenize(text)\n",
        "  tokens=[word for word in tokens if word not in stop_words]\n",
        "  return \" \".join(tokens)\n",
        "X_train=X_train.apply(preprocess)\n",
        "X_test=X_test.apply(preprocess)"
      ],
      "metadata": {
        "id": "IiAVo9O6A0h_"
      },
      "execution_count": null,
      "outputs": []
    },
    {
      "cell_type": "code",
      "source": [
        "\n",
        "X_train[0]"
      ],
      "metadata": {
        "colab": {
          "base_uri": "https://localhost:8080/",
          "height": 123
        },
        "id": "8U7H1_hRClI2",
        "outputId": "938daf03-8971-4604-bb86-e262244f26b4"
      },
      "execution_count": null,
      "outputs": [
        {
          "output_type": "execute_result",
          "data": {
            "text/plain": [
              "'one reviewers mentioned watching 1 oz episode youll hooked right exactly happened mebr br first thing struck oz brutality unflinching scenes violence set right word go trust show faint hearted timid show pulls punches regards drugs sex violence hardcore classic use wordbr br called oz nickname given oswald maximum security state penitentary focuses mainly emerald city experimental section prison cells glass fronts face inwards privacy high agenda em city home manyaryans muslims gangstas latinos christians italians irish moreso scuffles death stares dodgy dealings shady agreements never far awaybr br would say main appeal show due fact goes shows wouldnt dare forget pretty pictures painted mainstream audiences forget charm forget romanceoz doesnt mess around first episode ever saw struck nasty surreal couldnt say ready watched developed taste oz got accustomed high levels graphic violence violence injustice crooked guards wholl sold nickel inmates wholl kill order get away well mannered middle class inmates turned prison bitches due lack street skills prison experience watching oz may become comfortable uncomfortable viewingthats get touch darker side'"
            ],
            "application/vnd.google.colaboratory.intrinsic+json": {
              "type": "string"
            }
          },
          "metadata": {},
          "execution_count": 13
        }
      ]
    },
    {
      "cell_type": "code",
      "source": [
        "len(X_train)"
      ],
      "metadata": {
        "colab": {
          "base_uri": "https://localhost:8080/"
        },
        "id": "EpxRpkY8C3gY",
        "outputId": "ec5fca5e-a783-44bb-b7e7-33fde9309a65"
      },
      "execution_count": null,
      "outputs": [
        {
          "output_type": "execute_result",
          "data": {
            "text/plain": [
              "891"
            ]
          },
          "metadata": {},
          "execution_count": 18
        }
      ]
    },
    {
      "cell_type": "markdown",
      "source": [
        "## Tokenization"
      ],
      "metadata": {
        "id": "hskBP0AiC1Ve"
      }
    },
    {
      "cell_type": "code",
      "source": [
        "# Train the Word2Vec model\n",
        "#we are calling each sentence from X_train\n",
        "# we are spliting: it beacouse words\n",
        "# we have 891 lists are there\n",
        "# each list has words\n",
        "sentences=[sentence.split() for sentence in X_train]\n",
        "len(sentences)"
      ],
      "metadata": {
        "colab": {
          "base_uri": "https://localhost:8080/"
        },
        "id": "j3oeFnhLBu09",
        "outputId": "77334af3-99cd-420b-a86d-255856cad343"
      },
      "execution_count": null,
      "outputs": [
        {
          "output_type": "execute_result",
          "data": {
            "text/plain": [
              "891"
            ]
          },
          "metadata": {},
          "execution_count": 15
        }
      ]
    },
    {
      "cell_type": "code",
      "source": [
        "sentences[1]"
      ],
      "metadata": {
        "colab": {
          "base_uri": "https://localhost:8080/"
        },
        "id": "RjODXa6DCvAT",
        "outputId": "29ba3bd7-cb67-482b-f892-954be4509b53"
      },
      "execution_count": null,
      "outputs": [
        {
          "output_type": "execute_result",
          "data": {
            "text/plain": [
              "['take',\n",
              " 'cast',\n",
              " 'experienced',\n",
              " 'wellknown',\n",
              " 'actors',\n",
              " 'put',\n",
              " 'together',\n",
              " 'stupid',\n",
              " 'movie',\n",
              " 'nimrod',\n",
              " 'antel',\n",
              " 'answer',\n",
              " 'armored',\n",
              " 'six',\n",
              " 'coworkers',\n",
              " 'armored',\n",
              " 'car',\n",
              " 'business',\n",
              " 'decide',\n",
              " 'steal',\n",
              " 'large',\n",
              " 'shipment',\n",
              " 'cash',\n",
              " 'get',\n",
              " 'first',\n",
              " 'base',\n",
              " 'plans',\n",
              " 'everything',\n",
              " 'unravels',\n",
              " 'quickly',\n",
              " 'plot',\n",
              " 'like',\n",
              " 'youd',\n",
              " 'think',\n",
              " 'couldnt',\n",
              " 'bad',\n",
              " 'least',\n",
              " 'action',\n",
              " 'movie',\n",
              " 'however',\n",
              " 'first',\n",
              " '40',\n",
              " 'minutes',\n",
              " 'movie',\n",
              " 'see',\n",
              " 'appear',\n",
              " '6',\n",
              " 'normal',\n",
              " 'everyday',\n",
              " 'kind',\n",
              " 'guys',\n",
              " 'joke',\n",
              " 'laugh',\n",
              " 'drinks',\n",
              " 'together',\n",
              " 'etc',\n",
              " 'suddenly',\n",
              " 'learn',\n",
              " 'theyre',\n",
              " 'planning',\n",
              " 'rob',\n",
              " 'business',\n",
              " 'hero',\n",
              " 'ty',\n",
              " 'columbus',\n",
              " 'short',\n",
              " 'sucked',\n",
              " 'scheme',\n",
              " 'cold',\n",
              " 'cruel',\n",
              " 'world',\n",
              " 'even',\n",
              " 'though',\n",
              " 'hes',\n",
              " 'decorated',\n",
              " 'veteran',\n",
              " 'nice',\n",
              " 'guy',\n",
              " 'reliable',\n",
              " 'employee',\n",
              " 'oh',\n",
              " 'oh',\n",
              " 'last',\n",
              " '40',\n",
              " 'minutes',\n",
              " 'film',\n",
              " 'former',\n",
              " 'regular',\n",
              " 'guys',\n",
              " 'nearly',\n",
              " 'turn',\n",
              " 'moneycrazed',\n",
              " 'psychos',\n",
              " 'willing',\n",
              " 'butcher',\n",
              " 'cash',\n",
              " 'last',\n",
              " 'scenes',\n",
              " 'mike',\n",
              " 'matt',\n",
              " 'dillon',\n",
              " 'goes',\n",
              " 'suicidal',\n",
              " 'rampage',\n",
              " 'reason',\n",
              " 'kill',\n",
              " 'former',\n",
              " 'friend',\n",
              " 'viewer',\n",
              " 'hint',\n",
              " 'ending',\n",
              " 'men',\n",
              " 'ruthless',\n",
              " 'bloodthirsty',\n",
              " 'utterly',\n",
              " 'unbelievable',\n",
              " 'b',\n",
              " 'movie',\n",
              " 'almost',\n",
              " 'kind',\n",
              " 'sort',\n",
              " 'cheesy',\n",
              " 'plot',\n",
              " 'would',\n",
              " 'say',\n",
              " 'dont',\n",
              " 'waste',\n",
              " 'timetoo',\n",
              " 'bad',\n",
              " 'one',\n",
              " 'gave',\n",
              " 'laurence',\n",
              " 'fishburne',\n",
              " 'jean',\n",
              " 'reno',\n",
              " 'fred',\n",
              " 'ward',\n",
              " 'advice',\n",
              " 'making',\n",
              " 'picture']"
            ]
          },
          "metadata": {},
          "execution_count": 23
        }
      ]
    },
    {
      "cell_type": "markdown",
      "source": [
        "## Fine tune the word 2 vec model\n",
        "\n",
        "**size** - size of the vectors we want\n",
        "\n",
        "**window** - number words before and after the focus word that it donsider as context for the word\n",
        "\n",
        "**min_count** - the number od times a word must appear in our corpus in order to create a word vector"
      ],
      "metadata": {
        "id": "MZkheJY1DTM7"
      }
    },
    {
      "cell_type": "code",
      "source": [
        "w2v_model=Word2Vec(sentences,window=5,min_count=5,workers=4)\n",
        "w2v_model\n",
        "# default vector size=100\n"
      ],
      "metadata": {
        "colab": {
          "base_uri": "https://localhost:8080/"
        },
        "id": "EU5VlHfQDEVL",
        "outputId": "bf35de05-5127-441a-98de-34d490b2d39c"
      },
      "execution_count": null,
      "outputs": [
        {
          "output_type": "execute_result",
          "data": {
            "text/plain": [
              "<gensim.models.word2vec.Word2Vec at 0x7c0be2d019d0>"
            ]
          },
          "metadata": {},
          "execution_count": 24
        }
      ]
    },
    {
      "cell_type": "code",
      "source": [
        "len(w2v_model.wv['king'])"
      ],
      "metadata": {
        "colab": {
          "base_uri": "https://localhost:8080/"
        },
        "id": "plSucW3QD8rm",
        "outputId": "a76501af-ee21-4827-d1d5-d3b5f1863a87"
      },
      "execution_count": null,
      "outputs": [
        {
          "output_type": "execute_result",
          "data": {
            "text/plain": [
              "100"
            ]
          },
          "metadata": {},
          "execution_count": 25
        }
      ]
    },
    {
      "cell_type": "code",
      "source": [
        "w2v_model.corpus_total_words"
      ],
      "metadata": {
        "colab": {
          "base_uri": "https://localhost:8080/"
        },
        "id": "UOGdFD1ZECoo",
        "outputId": "f0d0e836-5108-4373-d5d8-e3de0037667d"
      },
      "execution_count": null,
      "outputs": [
        {
          "output_type": "execute_result",
          "data": {
            "text/plain": [
              "108286"
            ]
          },
          "metadata": {},
          "execution_count": 27
        }
      ]
    },
    {
      "cell_type": "code",
      "source": [
        "w2v_model.wv.most_similar(\"king\")"
      ],
      "metadata": {
        "colab": {
          "base_uri": "https://localhost:8080/"
        },
        "id": "hVxFqKoBEYeV",
        "outputId": "b979fe31-bf72-4970-92f8-b7e092f1b507"
      },
      "execution_count": null,
      "outputs": [
        {
          "output_type": "execute_result",
          "data": {
            "text/plain": [
              "[('shot', 0.999565064907074),\n",
              " ('may', 0.9995535016059875),\n",
              " ('another', 0.9995452165603638),\n",
              " ('long', 0.9995435476303101),\n",
              " ('often', 0.9995416402816772),\n",
              " ('trying', 0.9995408654212952),\n",
              " ('father', 0.999529242515564),\n",
              " ('young', 0.9995285272598267),\n",
              " ('yet', 0.9995224475860596),\n",
              " ('also', 0.9995220899581909)]"
            ]
          },
          "metadata": {},
          "execution_count": 28
        }
      ]
    },
    {
      "cell_type": "code",
      "source": [
        "from numpy.linalg import norm"
      ],
      "metadata": {
        "id": "f_dVR_WnE0fT"
      },
      "execution_count": null,
      "outputs": []
    },
    {
      "cell_type": "code",
      "source": [
        "similarity=w2v_model.wv.similarity(\"king\",'john')\n",
        "similarity"
      ],
      "metadata": {
        "colab": {
          "base_uri": "https://localhost:8080/"
        },
        "id": "wUDBnW01FCPM",
        "outputId": "4cbeafa0-6ea3-4a8c-e22a-589d16d91360"
      },
      "execution_count": null,
      "outputs": [
        {
          "output_type": "execute_result",
          "data": {
            "text/plain": [
              "0.9993688"
            ]
          },
          "metadata": {},
          "execution_count": 31
        }
      ]
    },
    {
      "cell_type": "code",
      "source": [
        "from math import cos\n",
        "vector1=w2v_model.wv['king']\n",
        "vector2=w2v_model.wv['john']\n",
        "\n",
        "cos_similarity=np.dot(vector1,vector2)/(np.linalg.norm(vector1)*np.linalg.norm(vector2))\n",
        "print(cos_similarity)"
      ],
      "metadata": {
        "colab": {
          "base_uri": "https://localhost:8080/"
        },
        "id": "CAP80PejFuuT",
        "outputId": "4a8fe1dd-0d98-4dd7-e922-6eb6c7fd5ea9"
      },
      "execution_count": null,
      "outputs": [
        {
          "output_type": "stream",
          "name": "stdout",
          "text": [
            "0.99936885\n"
          ]
        }
      ]
    },
    {
      "cell_type": "code",
      "source": [
        "def vectorize(sentence):\n",
        "  words=sentence.split()\n",
        "  words_vecs=[w2v_model.wv[word] for word in words if word in w2v_model.wv]\n",
        "  if len(words_vecs)==0:\n",
        "    return np.zeros(100)\n",
        "  words_vecs=np.array(words_vecs)\n",
        "  return words_vecs.mean(axis=0)"
      ],
      "metadata": {
        "id": "pYihMjjuGLPn"
      },
      "execution_count": null,
      "outputs": []
    },
    {
      "cell_type": "code",
      "source": [
        "X_train=np.array([vectorize(sentence) for sentence in X_train])\n",
        "X_test=np.array([vectorize(sentence) for sentence in X_test])"
      ],
      "metadata": {
        "id": "S20BNuFoIJw_"
      },
      "execution_count": null,
      "outputs": []
    },
    {
      "cell_type": "markdown",
      "source": [
        "##Develop the ML model"
      ],
      "metadata": {
        "id": "oDyPfL7CJEgT"
      }
    },
    {
      "cell_type": "code",
      "source": [
        "# Train a classification model\n",
        "clf=LogisticRegression()\n",
        "clf.fit(X_train,y_train)\n",
        "#Evaluate the model\n",
        "y_pred=clf.predict(X_test)\n",
        "print(\"Accuracy:\",accuracy_score(y_test,y_pred))\n",
        "print(\"Precission:\",precision_score(y_test,y_pred,pos_label='positive'))\n",
        "print('Recall:',recall_score(y_test,y_pred,pos_label='positive'))\n",
        "print('F1 score:',f1_score(y_test,y_pred,pos_label='positive'))\n"
      ],
      "metadata": {
        "colab": {
          "base_uri": "https://localhost:8080/"
        },
        "id": "a4D9aInmIWZp",
        "outputId": "418c22a8-ac7e-4961-8f46-44bc7f095c30"
      },
      "execution_count": null,
      "outputs": [
        {
          "output_type": "stream",
          "name": "stdout",
          "text": [
            "Accuracy: 0.5515695067264574\n",
            "Precission: 0.5576923076923077\n",
            "Recall: 0.5178571428571429\n",
            "F1 score: 0.5370370370370371\n"
          ]
        }
      ]
    },
    {
      "cell_type": "code",
      "source": [
        "X_test='good movie'\n",
        "X_test=preprocess(X_test)\n",
        "X_test=np.array([vectorize(X_test)])\n",
        "print(len(X_test))\n",
        "clf.predict(X_test)"
      ],
      "metadata": {
        "colab": {
          "base_uri": "https://localhost:8080/"
        },
        "id": "IXJG5EGoKVrO",
        "outputId": "93b508bd-d54e-4417-8920-d734275c5554"
      },
      "execution_count": null,
      "outputs": [
        {
          "output_type": "stream",
          "name": "stdout",
          "text": [
            "1\n"
          ]
        },
        {
          "output_type": "execute_result",
          "data": {
            "text/plain": [
              "array(['negative'], dtype=object)"
            ]
          },
          "metadata": {},
          "execution_count": 40
        }
      ]
    },
    {
      "cell_type": "code",
      "source": [
        "X_test='The movie was worth time and good experience'\n",
        "X_test=preprocess(X_test)\n",
        "X_test=np.array([vectorize(X_test)])\n",
        "print(len(X_test))\n",
        "clf.predict(X_test)"
      ],
      "metadata": {
        "colab": {
          "base_uri": "https://localhost:8080/"
        },
        "id": "cll1pVjYKkHt",
        "outputId": "efb2aeac-3ad2-43e1-a1fb-14a7cdd9e98c"
      },
      "execution_count": null,
      "outputs": [
        {
          "output_type": "stream",
          "name": "stdout",
          "text": [
            "1\n"
          ]
        },
        {
          "output_type": "execute_result",
          "data": {
            "text/plain": [
              "array(['negative'], dtype=object)"
            ]
          },
          "metadata": {},
          "execution_count": 42
        }
      ]
    },
    {
      "cell_type": "code",
      "source": [
        "X_test='bad movie waste movie'\n",
        "X_test=preprocess(X_test)\n",
        "X_test=np.array([vectorize(X_test)])\n",
        "print(len(X_test))\n",
        "clf.predict(X_test)"
      ],
      "metadata": {
        "colab": {
          "base_uri": "https://localhost:8080/"
        },
        "id": "N65dmODcKpGb",
        "outputId": "dd96649a-6d86-4f9a-b95d-18a5bfd090cb"
      },
      "execution_count": null,
      "outputs": [
        {
          "output_type": "stream",
          "name": "stdout",
          "text": [
            "1\n"
          ]
        },
        {
          "output_type": "execute_result",
          "data": {
            "text/plain": [
              "array(['negative'], dtype=object)"
            ]
          },
          "metadata": {},
          "execution_count": 43
        }
      ]
    },
    {
      "cell_type": "code",
      "source": [],
      "metadata": {
        "id": "w7u2QeHjK5wW"
      },
      "execution_count": null,
      "outputs": []
    }
  ]
}